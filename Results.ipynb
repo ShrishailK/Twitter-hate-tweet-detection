{
 "cells": [
  {
   "cell_type": "markdown",
   "id": "a43a1073",
   "metadata": {},
   "source": [
    "# Import libraries"
   ]
  },
  {
   "cell_type": "code",
   "execution_count": 2,
   "id": "fc6f506e",
   "metadata": {},
   "outputs": [],
   "source": [
    "import pandas as pd\n",
    "import numpy as np\n",
    "from ipynb.fs.full.Modelling import *\n",
    "from ipynb.fs.full.ETL import *"
   ]
  },
  {
   "cell_type": "code",
   "execution_count": null,
   "id": "c567f359",
   "metadata": {},
   "outputs": [
    {
     "name": "stdout",
     "output_type": "stream",
     "text": [
      "LOADING DATA...train.csv\n",
      "\n",
      " \n",
      "The number of tweets:\n",
      "31962\n",
      "\n",
      "\n",
      "The features or columns in our dataset are ['id', 'label', 'tweet']\n",
      "DATA ANALYSIS...\n",
      "\n",
      "\n",
      "The number of hate tweets:\n",
      "2242\n",
      "\n",
      "\n",
      "The percentage of hate tweets:\n",
      "7.014579813528565\n",
      "\n",
      "\n",
      "The number of tweets not classified as hate tweets:\n",
      "29720\n",
      "\n",
      "\n",
      "The percentage of tweets without hate language:\n",
      "92.98542018647143\n",
      "\n",
      "\n",
      "CLEANING DATA...\n",
      "\n",
      "\n",
      "The number of data point remaining after removing all null labels:\n",
      "31962\n",
      "\n",
      "\n",
      "The number of data point remaning after removing all duplicate tweets:\n",
      "29530\n",
      "\n",
      "\n"
     ]
    },
    {
     "name": "stderr",
     "output_type": "stream",
     "text": [
      "C:\\Users\\ASUS\\Anaconda3\\lib\\site-packages\\pandas\\core\\indexing.py:1637: SettingWithCopyWarning: \n",
      "A value is trying to be set on a copy of a slice from a DataFrame\n",
      "\n",
      "See the caveats in the documentation: https://pandas.pydata.org/pandas-docs/stable/user_guide/indexing.html#returning-a-view-versus-a-copy\n",
      "  self._setitem_single_block(indexer, value, name)\n"
     ]
    }
   ],
   "source": [
    "Extract_transform_load = ETL('train.csv','Data/preprocessed_data')\n",
    "Extract_transform_load.data_transform()"
   ]
  },
  {
   "cell_type": "markdown",
   "id": "d476299f",
   "metadata": {},
   "source": [
    "# RandomForest Classifier"
   ]
  },
  {
   "cell_type": "code",
   "execution_count": 2,
   "id": "23c8a269",
   "metadata": {},
   "outputs": [
    {
     "name": "stdout",
     "output_type": "stream",
     "text": [
      "Training Accuracy :\n",
      "0.9999096943152571\n",
      "Validation Accuracy :\n",
      "0.9581470946769606\n",
      "F1 score :\n",
      "{} 0.590728476821192\n"
     ]
    }
   ],
   "source": [
    "testing_results = results('Data/preprocessed_data','randomforestclassifier')\n",
    "testing_results.Classification()"
   ]
  },
  {
   "cell_type": "markdown",
   "id": "a47c499f",
   "metadata": {},
   "source": [
    "# Logistic Regression based Classifier"
   ]
  },
  {
   "cell_type": "code",
   "execution_count": 3,
   "id": "e704ca0a",
   "metadata": {},
   "outputs": [
    {
     "name": "stdout",
     "output_type": "stream",
     "text": [
      "Training Accuracy :\n",
      "0.9849189506479433\n",
      "Validation Accuracy :\n",
      "0.9546254909928213\n",
      "F1 score :\n",
      "{} 0.5754119138149556\n"
     ]
    }
   ],
   "source": [
    "testing_results = results('Data/preprocessed_data','logisticregression')\n",
    "testing_results.Classification()"
   ]
  },
  {
   "cell_type": "markdown",
   "id": "6295ed77",
   "metadata": {},
   "source": [
    "# Decision Trees based Classifier"
   ]
  },
  {
   "cell_type": "code",
   "execution_count": 4,
   "id": "9079388a",
   "metadata": {},
   "outputs": [
    {
     "name": "stdout",
     "output_type": "stream",
     "text": [
      "Training Accuracy :\n",
      "0.9999548471576286\n",
      "Validation Accuracy :\n",
      "0.9469050521468237\n",
      "F1 score :\n",
      "{} 0.5739130434782609\n"
     ]
    }
   ],
   "source": [
    "testing_results = results('Data/preprocessed_data','decisiontree')\n",
    "testing_results.Classification()"
   ]
  },
  {
   "cell_type": "markdown",
   "id": "6bc7f38e",
   "metadata": {},
   "source": [
    "# Support Vector based Classifier"
   ]
  },
  {
   "cell_type": "code",
   "execution_count": 5,
   "id": "b48e6113",
   "metadata": {},
   "outputs": [
    {
     "name": "stdout",
     "output_type": "stream",
     "text": [
      "Training Accuracy :\n",
      "0.9794554567210005\n",
      "Validation Accuracy :\n",
      "0.9481240688067182\n",
      "F1 score :\n",
      "{} 0.4309063893016345\n"
     ]
    }
   ],
   "source": [
    "testing_results = results('Data/preprocessed_data','svc')\n",
    "testing_results.Classification()"
   ]
  },
  {
   "cell_type": "markdown",
   "id": "bdcd915d",
   "metadata": {},
   "source": [
    "# XGboost based Classifier"
   ]
  },
  {
   "cell_type": "code",
   "execution_count": 6,
   "id": "f52e4740",
   "metadata": {},
   "outputs": [
    {
     "name": "stderr",
     "output_type": "stream",
     "text": [
      "C:\\Users\\ASUS\\Anaconda3\\lib\\site-packages\\xgboost\\sklearn.py:1146: UserWarning: The use of label encoder in XGBClassifier is deprecated and will be removed in a future release. To remove this warning, do the following: 1) Pass option use_label_encoder=False when constructing XGBClassifier object; and 2) Encode your labels (y) as integers starting with 0, i.e. 0, 1, 2, ..., [num_class - 1].\n",
      "  warnings.warn(label_encoder_deprecation_msg, UserWarning)\n"
     ]
    },
    {
     "name": "stdout",
     "output_type": "stream",
     "text": [
      "[22:18:30] WARNING: C:/Users/Administrator/workspace/xgboost-win64_release_1.4.0/src/learner.cc:1095: Starting in XGBoost 1.3.0, the default evaluation metric used with the objective 'binary:logistic' was changed from 'error' to 'logloss'. Explicitly set eval_metric if you'd like to restore the old behavior.\n",
      "Training Accuracy :\n",
      "0.9607170271368582\n",
      "Validation Accuracy :\n",
      "0.9490721928755248\n",
      "F1 score :\n",
      "{} 0.47922437673130186\n"
     ]
    }
   ],
   "source": [
    "testing_results = results('Data/preprocessed_data','xgboost')\n",
    "testing_results.Classification()"
   ]
  }
 ],
 "metadata": {
  "kernelspec": {
   "display_name": "Python 3",
   "language": "python",
   "name": "python3"
  },
  "language_info": {
   "codemirror_mode": {
    "name": "ipython",
    "version": 3
   },
   "file_extension": ".py",
   "mimetype": "text/x-python",
   "name": "python",
   "nbconvert_exporter": "python",
   "pygments_lexer": "ipython3",
   "version": "3.8.10"
  }
 },
 "nbformat": 4,
 "nbformat_minor": 5
}
