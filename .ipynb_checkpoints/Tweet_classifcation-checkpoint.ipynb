{
 "cells": [
  {
   "cell_type": "markdown",
   "id": "1c4051ef",
   "metadata": {},
   "source": [
    "# Import Libraries"
   ]
  },
  {
   "cell_type": "code",
   "execution_count": 1,
   "id": "747d16eb",
   "metadata": {},
   "outputs": [],
   "source": [
    "import pandas as pd\n",
    "import numpy as np\n",
    "from ipynb.fs.full.Results_modelling import *"
   ]
  },
  {
   "cell_type": "markdown",
   "id": "78aab7ad",
   "metadata": {},
   "source": [
    "# Examples of tweet classification"
   ]
  },
  {
   "cell_type": "code",
   "execution_count": 2,
   "id": "6a338172",
   "metadata": {},
   "outputs": [
    {
     "name": "stdout",
     "output_type": "stream",
     "text": [
      "Hate Tweet/Inappropriate Tweet\n"
     ]
    }
   ],
   "source": [
    "final = results(\"sikh temple and houses should be vandalised in in calgary #terrorists #killthemall\")\n",
    "final.Classification()\n",
    "# does work correctly for this case"
   ]
  },
  {
   "cell_type": "code",
   "execution_count": 3,
   "id": "217b262f",
   "metadata": {},
   "outputs": [
    {
     "name": "stdout",
     "output_type": "stream",
     "text": [
      "Normal Tweet\n"
     ]
    }
   ],
   "source": [
    "final = results(\"Well played English footaball team #itscominghome\")\n",
    "final.Classification()\n",
    "# does work correctly for this case"
   ]
  },
  {
   "cell_type": "code",
   "execution_count": 4,
   "id": "ab3f11fe",
   "metadata": {},
   "outputs": [
    {
     "name": "stdout",
     "output_type": "stream",
     "text": [
      "Hate Tweet/Inappropriate Tweet\n"
     ]
    }
   ],
   "source": [
    "final = results(\"Hiv infection from oral sex white girl had sex with black guy #porn #nasty\")\n",
    "final.Classification()"
   ]
  },
  {
   "cell_type": "code",
   "execution_count": 5,
   "id": "097612eb",
   "metadata": {},
   "outputs": [
    {
     "name": "stdout",
     "output_type": "stream",
     "text": [
      "Normal Tweet\n"
     ]
    }
   ],
   "source": [
    "final = results(\"Women are inferior to men #feminismmukthbharat\")\n",
    "final.Classification()\n",
    "# does not work correctly for this case"
   ]
  }
 ],
 "metadata": {
  "kernelspec": {
   "display_name": "Python 3",
   "language": "python",
   "name": "python3"
  },
  "language_info": {
   "codemirror_mode": {
    "name": "ipython",
    "version": 3
   },
   "file_extension": ".py",
   "mimetype": "text/x-python",
   "name": "python",
   "nbconvert_exporter": "python",
   "pygments_lexer": "ipython3",
   "version": "3.8.10"
  }
 },
 "nbformat": 4,
 "nbformat_minor": 5
}
