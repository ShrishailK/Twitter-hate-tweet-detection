{
 "cells": [
  {
   "cell_type": "markdown",
   "id": "63327603",
   "metadata": {},
   "source": [
    "# Extract, Transform and Load"
   ]
  },
  {
   "cell_type": "code",
   "execution_count": 1,
   "id": "ed9ed8ea",
   "metadata": {},
   "outputs": [],
   "source": [
    "import pandas as pd\n",
    "import numpy as np\n",
    "from nltk.corpus import stopwords"
   ]
  },
  {
   "cell_type": "code",
   "execution_count": 2,
   "id": "b89dc076",
   "metadata": {},
   "outputs": [],
   "source": [
    "data = pd.read_csv('train.csv')"
   ]
  },
  {
   "cell_type": "code",
   "execution_count": 3,
   "id": "5579e7d0",
   "metadata": {},
   "outputs": [
    {
     "data": {
      "text/html": [
       "<div>\n",
       "<style scoped>\n",
       "    .dataframe tbody tr th:only-of-type {\n",
       "        vertical-align: middle;\n",
       "    }\n",
       "\n",
       "    .dataframe tbody tr th {\n",
       "        vertical-align: top;\n",
       "    }\n",
       "\n",
       "    .dataframe thead th {\n",
       "        text-align: right;\n",
       "    }\n",
       "</style>\n",
       "<table border=\"1\" class=\"dataframe\">\n",
       "  <thead>\n",
       "    <tr style=\"text-align: right;\">\n",
       "      <th></th>\n",
       "      <th>id</th>\n",
       "      <th>label</th>\n",
       "      <th>tweet</th>\n",
       "    </tr>\n",
       "  </thead>\n",
       "  <tbody>\n",
       "    <tr>\n",
       "      <th>0</th>\n",
       "      <td>1</td>\n",
       "      <td>0</td>\n",
       "      <td>@user when a father is dysfunctional and is s...</td>\n",
       "    </tr>\n",
       "    <tr>\n",
       "      <th>1</th>\n",
       "      <td>2</td>\n",
       "      <td>0</td>\n",
       "      <td>@user @user thanks for #lyft credit i can't us...</td>\n",
       "    </tr>\n",
       "    <tr>\n",
       "      <th>2</th>\n",
       "      <td>3</td>\n",
       "      <td>0</td>\n",
       "      <td>bihday your majesty</td>\n",
       "    </tr>\n",
       "    <tr>\n",
       "      <th>3</th>\n",
       "      <td>4</td>\n",
       "      <td>0</td>\n",
       "      <td>#model   i love u take with u all the time in ...</td>\n",
       "    </tr>\n",
       "    <tr>\n",
       "      <th>4</th>\n",
       "      <td>5</td>\n",
       "      <td>0</td>\n",
       "      <td>factsguide: society now    #motivation</td>\n",
       "    </tr>\n",
       "  </tbody>\n",
       "</table>\n",
       "</div>"
      ],
      "text/plain": [
       "   id  label                                              tweet\n",
       "0   1      0   @user when a father is dysfunctional and is s...\n",
       "1   2      0  @user @user thanks for #lyft credit i can't us...\n",
       "2   3      0                                bihday your majesty\n",
       "3   4      0  #model   i love u take with u all the time in ...\n",
       "4   5      0             factsguide: society now    #motivation"
      ]
     },
     "execution_count": 3,
     "metadata": {},
     "output_type": "execute_result"
    }
   ],
   "source": [
    "data.head()"
   ]
  },
  {
   "cell_type": "code",
   "execution_count": 38,
   "id": "21ebdc7d",
   "metadata": {},
   "outputs": [],
   "source": [
    "def load_data(twitter_data):\n",
    "    \n",
    "    #load data \n",
    "    data = pd.read_csv(twitter_data)\n",
    "    \n",
    "    #print the dataset shape\n",
    "    print('The number of tweets:\\n{}\\n\\n'.format(data.shape[0]))\n",
    "    \n",
    "    #the feature of the data set are\n",
    "    print('The features or columns in our dataset are {}'.format(list(data.columns)))\n",
    "    \n",
    "    return data"
   ]
  },
  {
   "cell_type": "code",
   "execution_count": 39,
   "id": "a98063d9",
   "metadata": {},
   "outputs": [],
   "source": [
    "def analysis(data):    \n",
    "    \n",
    "    #Print the number of tweets with hate language\n",
    "    print('The number of hate tweets:\\n{}\\n\\n'.format(data[data['label'] == 1].shape[0]))\n",
    "    \n",
    "    #the percentage of tweets with hate language\n",
    "    print('The percentage of hate tweets:\\n{}\\n\\n'.format(data[data['label']==1].shape[0]/data.shape[0])*100)\n",
    "    \n",
    "    #print the number of tweets without hate language\n",
    "    print('The number of tweets not classified as hate tweets:\\n{}\\n\\n'.format(data[data['label']==0].shape[0]))\n",
    "    \n",
    "    #the percentage of tweets without language\n",
    "    print('The percentage of tweets without hate language:\\n{}\\n\\n'.format((data[data['label']==0].shape[0]/data.shape[0])*100))\n",
    "    "
   ]
  },
  {
   "cell_type": "code",
   "execution_count": 42,
   "id": "aff77758",
   "metadata": {},
   "outputs": [],
   "source": [
    "def main(Twitter_data):\n",
    "    \n",
    "        print('LOADING DATA...{}\\n\\n '.format(Twitter_data))\n",
    "        data = load_data(Twitter_data)\n",
    "\n",
    "        print('DATA ANALYSIS...\\n\\n')\n",
    "        analysis(data)"
   ]
  },
  {
   "cell_type": "code",
   "execution_count": 43,
   "id": "06716bab",
   "metadata": {},
   "outputs": [
    {
     "name": "stdout",
     "output_type": "stream",
     "text": [
      "LOADING DATA...train.csv\n",
      "\n",
      " \n",
      "The number of tweets:\n",
      "31962\n",
      "\n",
      "\n",
      "The features or columns in our dataset are ['id', 'label', 'tweet']\n",
      "DATA ANALYSIS...\n",
      "\n",
      "\n",
      "The number of hate tweets:\n",
      "2242\n",
      "\n",
      "\n",
      "The percentage of hate tweets:\n",
      "0.07014579813528565\n",
      "\n",
      "\n",
      "The number of tweets not classified as hate tweets:\n",
      "29720\n",
      "\n",
      "\n",
      "The percentage of tweets without hate language:\n",
      "92.98542018647143\n",
      "\n",
      "\n"
     ]
    }
   ],
   "source": [
    "main('train.csv')"
   ]
  }
 ],
 "metadata": {
  "kernelspec": {
   "display_name": "Python 3",
   "language": "python",
   "name": "python3"
  },
  "language_info": {
   "codemirror_mode": {
    "name": "ipython",
    "version": 3
   },
   "file_extension": ".py",
   "mimetype": "text/x-python",
   "name": "python",
   "nbconvert_exporter": "python",
   "pygments_lexer": "ipython3",
   "version": "3.8.10"
  }
 },
 "nbformat": 4,
 "nbformat_minor": 5
}
